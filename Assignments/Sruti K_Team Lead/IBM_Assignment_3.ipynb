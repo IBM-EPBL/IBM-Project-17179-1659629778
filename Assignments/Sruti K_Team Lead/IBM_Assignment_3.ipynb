{
  "cells": [
    {
      "cell_type": "markdown",
      "metadata": {
        "id": "WeZe7KA7FrqE"
      },
      "source": [
        "Sruti Kannan\n",
        "\n",
        "**Exercise**\n",
        "\n",
        "Answer the questions to complete the tasks outlined in bold below, use the specific method described if applicable"
      ]
    },
    {
      "cell_type": "markdown",
      "metadata": {
        "id": "DXyQC6UnGN2t"
      },
      "source": [
        "**What is 7 to the power of 4?**"
      ]
    },
    {
      "cell_type": "code",
      "execution_count": 1,
      "metadata": {
        "colab": {
          "base_uri": "https://localhost:8080/"
        },
        "id": "0NOI0hkvGU1K",
        "outputId": "7a99c116-b2d9-48ef-c869-1217c64ba7ce"
      },
      "outputs": [
        {
          "name": "stdout",
          "output_type": "stream",
          "text": [
            "2401\n"
          ]
        }
      ],
      "source": [
        "print(7**4)"
      ]
    },
    {
      "cell_type": "markdown",
      "metadata": {
        "id": "SL0O8hO5Gg0_"
      },
      "source": [
        "**Split the string:**\n",
        "\n",
        "s=\"Hi there Sam!\"\n",
        "\n",
        "**into a list**"
      ]
    },
    {
      "cell_type": "code",
      "execution_count": 2,
      "metadata": {
        "id": "b-Y4umOjG1AK"
      },
      "outputs": [],
      "source": [
        "s=\"Hi there Sam!\""
      ]
    },
    {
      "cell_type": "code",
      "execution_count": 3,
      "metadata": {
        "colab": {
          "base_uri": "https://localhost:8080/"
        },
        "id": "Oq6b46Z0G7Yd",
        "outputId": "312b3095-bd61-4176-9425-f08f1ffb68ee"
      },
      "outputs": [
        {
          "name": "stdout",
          "output_type": "stream",
          "text": [
            "['Hi', 'there', 'Sam!']\n"
          ]
        }
      ],
      "source": [
        "print(s.split())"
      ]
    },
    {
      "cell_type": "markdown",
      "metadata": {
        "id": "skG-_MTcHAUI"
      },
      "source": [
        "**Given the variables:**\n",
        "\n",
        "planet=\"Earth\"\n",
        "\n",
        "diameter=12742"
      ]
    },
    {
      "cell_type": "markdown",
      "metadata": {
        "id": "npG91AbmHL7h"
      },
      "source": [
        "**Use .format() to print the following string:**\n",
        "\n",
        "The diameters of earth is 12742 kilometers"
      ]
    },
    {
      "cell_type": "code",
      "execution_count": 4,
      "metadata": {
        "id": "MHsZD2-zHVwe"
      },
      "outputs": [],
      "source": [
        "planet=\"Earth\"\n",
        "diameter=12742"
      ]
    },
    {
      "cell_type": "code",
      "execution_count": 5,
      "metadata": {
        "colab": {
          "base_uri": "https://localhost:8080/"
        },
        "id": "UIWORdv0HfS0",
        "outputId": "eb526f2d-579e-44b1-9c88-8128b4c4e3cc"
      },
      "outputs": [
        {
          "name": "stdout",
          "output_type": "stream",
          "text": [
            "The diameter of Earth is 12742 kilometers.\n"
          ]
        }
      ],
      "source": [
        "print(\"The diameter of {planet} is {diameter} kilometers.\".format(planet=planet,diameter=diameter))"
      ]
    },
    {
      "cell_type": "markdown",
      "metadata": {
        "id": "pOHzHxJmH9PW"
      },
      "source": [
        "**Given this nested list, use indexing to grab the word \"hello\"**"
      ]
    },
    {
      "cell_type": "code",
      "execution_count": 6,
      "metadata": {
        "id": "B8Tl45EBIGFn"
      },
      "outputs": [],
      "source": [
        "lst = [1,2,[3,4],[5,[100,200,['hello']],23,11],1,7]"
      ]
    },
    {
      "cell_type": "code",
      "execution_count": 7,
      "metadata": {
        "colab": {
          "base_uri": "https://localhost:8080/"
        },
        "id": "R9PVfyHYIpiX",
        "outputId": "8e8f3134-250f-4de8-9fdf-eb0b1535df12"
      },
      "outputs": [
        {
          "name": "stdout",
          "output_type": "stream",
          "text": [
            "['hello']\n"
          ]
        }
      ],
      "source": [
        "print(lst[3][1][2])"
      ]
    },
    {
      "cell_type": "markdown",
      "metadata": {
        "id": "zcBwM0DZIvqW"
      },
      "source": [
        "**Given this nest dictionary grab the word \"hello\". Be prepared, this will be annoying/tricky**"
      ]
    },
    {
      "cell_type": "code",
      "execution_count": 8,
      "metadata": {
        "id": "pIQG76PfJDm8"
      },
      "outputs": [],
      "source": [
        "d={'k1':[1,2,3,{'tricky':['oh','man','inception',{'target':[1,2,3,'hello']}]}]}"
      ]
    },
    {
      "cell_type": "code",
      "execution_count": 9,
      "metadata": {
        "colab": {
          "base_uri": "https://localhost:8080/"
        },
        "id": "a3l2LWuXJZ9e",
        "outputId": "992dc066-83b6-46ba-c921-4db0e7dd7212"
      },
      "outputs": [
        {
          "name": "stdout",
          "output_type": "stream",
          "text": [
            "hello\n"
          ]
        }
      ],
      "source": [
        "print(d[\"k1\"][3][\"tricky\"][3]['target'][3])"
      ]
    },
    {
      "cell_type": "markdown",
      "metadata": {
        "id": "a5amYX8cJmOK"
      },
      "source": [
        "**What is main difference between a tuple and a list?**"
      ]
    },
    {
      "cell_type": "markdown",
      "metadata": {
        "id": "tI55DUK9J6It"
      },
      "source": [
        "List is mutable, whereas the tuple is immutable"
      ]
    },
    {
      "cell_type": "markdown",
      "metadata": {
        "id": "BMAocJPjKCmo"
      },
      "source": [
        "**Create a funtion that grabs the email website domainfrom a string in the form:**\n",
        "\n",
        "      user@domain. com:"
      ]
    },
    {
      "cell_type": "markdown",
      "metadata": {
        "id": "q6B5DdGJKgPW"
      },
      "source": [
        "**So for example, passing \"user@domain.com\" would return: domain.com**"
      ]
    },
    {
      "cell_type": "code",
      "execution_count": 10,
      "metadata": {
        "colab": {
          "base_uri": "https://localhost:8080/",
          "height": 35
        },
        "id": "VPI4NHzRKzGE",
        "outputId": "def05838-6db5-489f-c730-d188f0d092c7"
      },
      "outputs": [
        {
          "data": {
            "text/plain": [
              "'domain.com'"
            ]
          },
          "execution_count": 10,
          "metadata": {},
          "output_type": "execute_result"
        }
      ],
      "source": [
        "def domain(email):\n",
        "  return email.split('@')[-1]\n",
        "domain(\"user@domain.com\")"
      ]
    },
    {
      "cell_type": "markdown",
      "metadata": {
        "id": "F_tDyX1jLL4G"
      },
      "source": [
        "**Create a basic function that returns True if the word 'dog' is contained in the input string. Don't worry about edge cases like a punctuation being attached to the word dog, but do account for capitalization**"
      ]
    },
    {
      "cell_type": "code",
      "execution_count": 11,
      "metadata": {
        "colab": {
          "base_uri": "https://localhost:8080/"
        },
        "id": "ZQKAvckKLqus",
        "outputId": "fb92874e-78de-49c4-fa17-f8c544be79b2"
      },
      "outputs": [
        {
          "data": {
            "text/plain": [
              "True"
            ]
          },
          "execution_count": 11,
          "metadata": {},
          "output_type": "execute_result"
        }
      ],
      "source": [
        "def check(word):\n",
        "  for i in word.split():\n",
        "    if i==\"dog\":\n",
        "      return True\n",
        "  return False\n",
        "check(\"I love my dog\")"
      ]
    },
    {
      "cell_type": "markdown",
      "metadata": {
        "id": "clV1cSAIMUiA"
      },
      "source": [
        "**Create a function that counts the number of times the word \"dog\" occurs in a string. Again ignore edge cases**"
      ]
    },
    {
      "cell_type": "code",
      "execution_count": 12,
      "metadata": {
        "id": "8m7TBJRbMjLY"
      },
      "outputs": [],
      "source": [
        "def wordCount(word):\n",
        "  count=0\n",
        "  for i in word.split():\n",
        "    if i=='dog':\n",
        "      count+=1\n",
        "  print(\"Dog repeated \"+str(count)+\" times\")"
      ]
    },
    {
      "cell_type": "code",
      "execution_count": 13,
      "metadata": {
        "colab": {
          "base_uri": "https://localhost:8080/"
        },
        "id": "_rEHMhUjNIag",
        "outputId": "eb5d80b2-8375-41d3-ede4-13890ce6a2dc"
      },
      "outputs": [
        {
          "name": "stdout",
          "output_type": "stream",
          "text": [
            "Dog repeated 3 times\n"
          ]
        }
      ],
      "source": [
        "wordCount('dog dog dog cat lion Dog DOG')"
      ]
    },
    {
      "cell_type": "markdown",
      "metadata": {
        "id": "p1VrrYCZNTHA"
      },
      "source": [
        "**PROBLEM**\n",
        "\n",
        "**You are driving a little too fast, and a police officer stops you. Write a function to return one of 3 possible results: \"No ticket\", \"Small ticket\", or \"Big Ticket\". If your speed is 60 or less, the result is \"No Ticket\". If speed is between 61 and 80 inclusive, the result is Small Ticket\". If speed is 81 or more, the result is \"Big Ticket\". Unless it is your birthday (encoded as a boolean value in the parameters of the function) on your birthday, your speed can be 5 higher in all cases** "
      ]
    },
    {
      "cell_type": "code",
      "execution_count": 14,
      "metadata": {
        "id": "xVUt8erJNlBg"
      },
      "outputs": [],
      "source": [
        "def caught_speeding(speed, is_birthday):\n",
        "  if is_birthday:\n",
        "    speeding=speed-5\n",
        "  else:\n",
        "    speeding=speed\n",
        "  if speeding>80:\n",
        "    return 'Big Ticket'\n",
        "  elif speeding>60:\n",
        "    return 'Small Ticket'\n",
        "  else:\n",
        "    return 'No Ticket'"
      ]
    },
    {
      "cell_type": "code",
      "execution_count": 15,
      "metadata": {
        "colab": {
          "base_uri": "https://localhost:8080/",
          "height": 35
        },
        "id": "xccGfrgLOZzM",
        "outputId": "95491600-2162-460e-df4d-9986915c6c7f"
      },
      "outputs": [
        {
          "data": {
            "text/plain": [
              "'Big Ticket'"
            ]
          },
          "execution_count": 15,
          "metadata": {},
          "output_type": "execute_result"
        }
      ],
      "source": [
        "caught_speeding(87,False)"
      ]
    },
    {
      "cell_type": "code",
      "execution_count": 16,
      "metadata": {
        "colab": {
          "base_uri": "https://localhost:8080/",
          "height": 35
        },
        "id": "gz00OjpQQbop",
        "outputId": "f6dffb7c-b3ab-42fa-ad0d-c26f47c2fa83"
      },
      "outputs": [
        {
          "data": {
            "text/plain": [
              "'Small Ticket'"
            ]
          },
          "execution_count": 16,
          "metadata": {},
          "output_type": "execute_result"
        }
      ],
      "source": [
        "caught_speeding(65,False)"
      ]
    },
    {
      "cell_type": "markdown",
      "metadata": {
        "id": "qIrFKTSxQp-c"
      },
      "source": [
        "**Create an employee list with basic salary values(at least 5 values for 5 employees)  and using a for loop retreive each employee salary and calculate total salary expenditure.**"
      ]
    },
    {
      "cell_type": "code",
      "execution_count": 17,
      "metadata": {
        "id": "hMewoCW-Q4hw"
      },
      "outputs": [],
      "source": [
        "e=[[\"emp1\",[1325,4975,8660,6037,8308]],[\"emp2\",[5678,5847,3375,3415,6640]],[\"emp3\",[1806,5144,8340,1253,6667]],[\"emp4\",[8381,7678,8599,3629,9345]],[\"emp5\",[7066,1307,3023,6295,2046]]]"
      ]
    },
    {
      "cell_type": "code",
      "execution_count": 18,
      "metadata": {
        "colab": {
          "base_uri": "https://localhost:8080/"
        },
        "id": "e1GqoBGtRs6z",
        "outputId": "20346e4b-0872-468b-a873-7bd753ab9d4b"
      },
      "outputs": [
        {
          "name": "stdout",
          "output_type": "stream",
          "text": [
            "emp1 earns 29305\n",
            "emp2 earns 54260\n",
            "emp3 earns 77470\n",
            "emp4 earns 115102\n",
            "emp5 earns 134839\n"
          ]
        }
      ],
      "source": [
        "total=0\n",
        "for i in range(len(e)):\n",
        "  for j in e[i][1]:\n",
        "    total+=j\n",
        "  print(str(e[i][0])+\" earns \"+str(total))"
      ]
    },
    {
      "cell_type": "code",
      "execution_count": 19,
      "metadata": {
        "colab": {
          "base_uri": "https://localhost:8080/"
        },
        "id": "inKjzCWASYzL",
        "outputId": "5eb1374d-2f75-4a5c-9749-478cb8568f14"
      },
      "outputs": [
        {
          "name": "stdout",
          "output_type": "stream",
          "text": [
            "[['emp1', [1325, 4975, 8660, 6037, 8308]], ['emp2', [5678, 5847, 3375, 3415, 6640]], ['emp3', [1806, 5144, 8340, 1253, 6667]], ['emp4', [8381, 7678, 8599, 3629, 9345]], ['emp5', [7066, 1307, 3023, 6295, 2046]]]\n"
          ]
        }
      ],
      "source": [
        "print(e)"
      ]
    },
    {
      "cell_type": "markdown",
      "metadata": {
        "id": "a1UCwNnRSo8g"
      },
      "source": [
        "Create two dictionaries in Python:\n",
        "\n",
        "First one to contain fields as Empid,  Empname,  Basicpay\n",
        "\n",
        "Second dictionary to contain fields as DeptName,  DeptId.\n",
        "\n",
        "Combine both dictionaries."
      ]
    },
    {
      "cell_type": "code",
      "execution_count": 20,
      "metadata": {
        "colab": {
          "base_uri": "https://localhost:8080/"
        },
        "id": "DCStXlZAS6ko",
        "outputId": "f821d4e8-e9bb-4035-861a-af1b698970d7"
      },
      "outputs": [
        {
          "name": "stdout",
          "output_type": "stream",
          "text": [
            "{'Empid': 123, 'Empname': 'dan', 'Basicpay': 7500, 'DeptName': 'CSE', 'Deptid': 4500}\n"
          ]
        }
      ],
      "source": [
        "dic1={\"Empid\":123, \"Empname\":\"dan\", \"Basicpay\": 7500}\n",
        "dic2={\"DeptName\":\"CSE\",\"Deptid\":4500}\n",
        "dic3={**dic1,**dic2}\n",
        "print(dic3)"
      ]
    }
  ],
  "metadata": {
    "colab": {
      "provenance": []
    },
    "kernelspec": {
      "display_name": "Python 3",
      "name": "python3"
    },
    "language_info": {
      "name": "python"
    }
  },
  "nbformat": 4,
  "nbformat_minor": 0
}
